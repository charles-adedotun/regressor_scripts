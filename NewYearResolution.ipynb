{
  "nbformat": 4,
  "nbformat_minor": 0,
  "metadata": {
    "colab": {
      "name": "NewYearResolution.ipynb",
      "provenance": []
    },
    "kernelspec": {
      "name": "python3",
      "display_name": "Python 3"
    }
  },
  "cells": [
    {
      "cell_type": "markdown",
      "metadata": {
        "id": "iCw8VMmF6cpN"
      },
      "source": [
        "# New Year Resolution (TechGig)"
      ]
    },
    {
      "cell_type": "markdown",
      "metadata": {
        "id": "Lf_sySk26k52"
      },
      "source": [
        "# Importing the Libraries"
      ]
    },
    {
      "cell_type": "code",
      "metadata": {
        "id": "qf6yItP16qIh"
      },
      "source": [
        "import pandas as pd\n",
        "import numpy as np"
      ],
      "execution_count": 19,
      "outputs": []
    },
    {
      "cell_type": "markdown",
      "metadata": {
        "id": "3MGw3BGa66xt"
      },
      "source": [
        "# Importing the Datasets"
      ]
    },
    {
      "cell_type": "code",
      "metadata": {
        "id": "eUooT0An6-om"
      },
      "source": [
        "train = pd.read_csv('train.csv')\n",
        "test = pd.read_csv('test.csv')"
      ],
      "execution_count": 20,
      "outputs": []
    },
    {
      "cell_type": "markdown",
      "metadata": {
        "id": "kU0Ta-FU7J-c"
      },
      "source": [
        "# Data Preprocessing"
      ]
    },
    {
      "cell_type": "markdown",
      "metadata": {
        "id": "X_lni6mA7Mn1"
      },
      "source": [
        "Drop the Irrelevant Columns"
      ]
    },
    {
      "cell_type": "code",
      "metadata": {
        "id": "jcpXPDG-7Zgg"
      },
      "source": [
        "train = train.drop(columns=['outlet_no', 'city', 'zip', 'credit_score_range'])\n",
        "test = test.drop(columns=['outlet_no', 'city', 'zip', 'credit_score_range'])"
      ],
      "execution_count": 21,
      "outputs": []
    },
    {
      "cell_type": "markdown",
      "metadata": {
        "id": "_xBqNu977tZe"
      },
      "source": [
        "Select the Dependent and Independent Variables (Train Set)"
      ]
    },
    {
      "cell_type": "code",
      "metadata": {
        "id": "aXe_tfvL71-Y"
      },
      "source": [
        "X_train = train.iloc[:, :-1].values\n",
        "y_train = train.iloc[:, -1].values"
      ],
      "execution_count": 22,
      "outputs": []
    },
    {
      "cell_type": "markdown",
      "metadata": {
        "id": "3vsGittg8ED9"
      },
      "source": [
        "Defining X_test"
      ]
    },
    {
      "cell_type": "code",
      "metadata": {
        "id": "xBgKBLbM8H6t"
      },
      "source": [
        "X_test = test.iloc[:, :].values"
      ],
      "execution_count": 23,
      "outputs": []
    },
    {
      "cell_type": "markdown",
      "metadata": {
        "id": "_xr05E2R8hr4"
      },
      "source": [
        "Character Encoding"
      ]
    },
    {
      "cell_type": "code",
      "metadata": {
        "id": "AhAD_zzt8kn0"
      },
      "source": [
        "from sklearn.preprocessing import LabelEncoder"
      ],
      "execution_count": 24,
      "outputs": []
    },
    {
      "cell_type": "code",
      "metadata": {
        "id": "6o1cUgBK8zRU"
      },
      "source": [
        "le = LabelEncoder()\n",
        "X_train[:, 1] = le.fit_transform(X_train[:, 1])\n",
        "X_test[:, 1] = le.transform(X_test[:, 1])"
      ],
      "execution_count": 25,
      "outputs": []
    },
    {
      "cell_type": "code",
      "metadata": {
        "id": "Xcv6acrD9Cf4"
      },
      "source": [
        "le2 = LabelEncoder()\n",
        "X_train[:, 2] = le2.fit_transform(X_train[:, 2])\n",
        "X_test[:, 2] = le2.transform(X_test[:, 2])"
      ],
      "execution_count": 26,
      "outputs": []
    },
    {
      "cell_type": "code",
      "metadata": {
        "id": "k60rU1kE9WEF"
      },
      "source": [
        "le3 = LabelEncoder()\n",
        "X_train[:, 10] = le3.fit_transform(X_train[:, 10])\n",
        "X_test[:, 10] = le3.transform(X_test[:, 10])"
      ],
      "execution_count": 27,
      "outputs": []
    },
    {
      "cell_type": "code",
      "metadata": {
        "id": "wDg4PEaU9WnL"
      },
      "source": [
        "le4 = LabelEncoder()\n",
        "X_train[:, 13] = le4.fit_transform(X_train[:, 13])\n",
        "X_test[:, 13] = le4.transform(X_test[:, 13])"
      ],
      "execution_count": 28,
      "outputs": []
    },
    {
      "cell_type": "code",
      "metadata": {
        "id": "vWzOtdTZ9XH6"
      },
      "source": [
        "le5 = LabelEncoder()\n",
        "X_train[:, 15] = le5.fit_transform(X_train[:, 15])\n",
        "X_test[:, 15] = le5.transform(X_test[:, 15])"
      ],
      "execution_count": 29,
      "outputs": []
    },
    {
      "cell_type": "markdown",
      "metadata": {
        "id": "7xH3FkLt9zLN"
      },
      "source": [
        "# Model Training"
      ]
    },
    {
      "cell_type": "markdown",
      "metadata": {
        "id": "Euhm3vH393O1"
      },
      "source": [
        "Multiple Linear Regression"
      ]
    },
    {
      "cell_type": "code",
      "metadata": {
        "id": "RhEArqeA99b8",
        "outputId": "049e3f20-ac8c-4295-8506-ac1fec2a32cf",
        "colab": {
          "base_uri": "https://localhost:8080/",
          "height": 34
        }
      },
      "source": [
        "from sklearn.linear_model import LinearRegression\n",
        "regressor = LinearRegression()\n",
        "regressor.fit(X_train, y_train)"
      ],
      "execution_count": 30,
      "outputs": [
        {
          "output_type": "execute_result",
          "data": {
            "text/plain": [
              "LinearRegression(copy_X=True, fit_intercept=True, n_jobs=None, normalize=False)"
            ]
          },
          "metadata": {
            "tags": []
          },
          "execution_count": 30
        }
      ]
    },
    {
      "cell_type": "code",
      "metadata": {
        "id": "JbRsSBQs-EIC"
      },
      "source": [
        "y_pred = regressor.predict(X_test)\n",
        "test = pd.read_csv('test.csv')\n",
        "testid = test.iloc[:, 0].values\n",
        "testid = testid.astype(int)\n",
        "answer = np.concatenate((testid.reshape(len(testid),1), y_pred.reshape(len(y_pred),1)),1)\n",
        "np.savetxt(\"results-MultipleLinear.csv\", answer, \"%i\", header=\"outlet_no,total_sales_actual\", delimiter=\",\", comments=\"\")"
      ],
      "execution_count": 31,
      "outputs": []
    },
    {
      "cell_type": "markdown",
      "metadata": {
        "id": "RSuGYlJK_gN4"
      },
      "source": [
        "Decision Tree"
      ]
    },
    {
      "cell_type": "code",
      "metadata": {
        "id": "0GZ5oDzn_fE-",
        "outputId": "fd02e331-3561-4464-c836-5c86076c3100",
        "colab": {
          "base_uri": "https://localhost:8080/",
          "height": 119
        }
      },
      "source": [
        "from sklearn.tree import DecisionTreeRegressor\n",
        "regressor = DecisionTreeRegressor(random_state = 0)\n",
        "regressor.fit(X_train, y_train)"
      ],
      "execution_count": 32,
      "outputs": [
        {
          "output_type": "execute_result",
          "data": {
            "text/plain": [
              "DecisionTreeRegressor(ccp_alpha=0.0, criterion='mse', max_depth=None,\n",
              "                      max_features=None, max_leaf_nodes=None,\n",
              "                      min_impurity_decrease=0.0, min_impurity_split=None,\n",
              "                      min_samples_leaf=1, min_samples_split=2,\n",
              "                      min_weight_fraction_leaf=0.0, presort='deprecated',\n",
              "                      random_state=0, splitter='best')"
            ]
          },
          "metadata": {
            "tags": []
          },
          "execution_count": 32
        }
      ]
    },
    {
      "cell_type": "code",
      "metadata": {
        "id": "B1c6hqUa_rPw"
      },
      "source": [
        "y_pred = regressor.predict(X_test)\n",
        "test = pd.read_csv('test.csv')\n",
        "testid = test.iloc[:, 0].values\n",
        "testid = testid.astype(int)\n",
        "answer = np.concatenate((testid.reshape(len(testid),1), y_pred.reshape(len(y_pred),1)),1)\n",
        "np.savetxt(\"results-DecisionTree.csv\", answer, \"%i\", header=\"outlet_no,total_sales_actual\", delimiter=\",\", comments=\"\")"
      ],
      "execution_count": 33,
      "outputs": []
    },
    {
      "cell_type": "markdown",
      "metadata": {
        "id": "BXIrYr2JBNsu"
      },
      "source": [
        "Polynomial Regression"
      ]
    },
    {
      "cell_type": "code",
      "metadata": {
        "id": "Ksn5x3RsBQEy",
        "outputId": "6dcee00a-aa44-45b7-e126-8eeaa64d1f92",
        "colab": {
          "base_uri": "https://localhost:8080/",
          "height": 34
        }
      },
      "source": [
        "from sklearn.preprocessing import PolynomialFeatures\n",
        "from sklearn.linear_model import LinearRegression\n",
        "poly_reg = PolynomialFeatures(degree = 4)\n",
        "X_poly = poly_reg.fit_transform(X_train)\n",
        "regressor = LinearRegression()\n",
        "regressor.fit(X_poly, y_train)"
      ],
      "execution_count": 34,
      "outputs": [
        {
          "output_type": "execute_result",
          "data": {
            "text/plain": [
              "LinearRegression(copy_X=True, fit_intercept=True, n_jobs=None, normalize=False)"
            ]
          },
          "metadata": {
            "tags": []
          },
          "execution_count": 34
        }
      ]
    },
    {
      "cell_type": "code",
      "metadata": {
        "id": "QnbKFOy-BQ6o"
      },
      "source": [
        "y_pred = regressor.predict(poly_reg.transform(X_test))\n",
        "test = pd.read_csv('test.csv')\n",
        "testid = test.iloc[:, 0].values\n",
        "testid = testid.astype(int)\n",
        "answer = np.concatenate((testid.reshape(len(testid),1), y_pred.reshape(len(y_pred),1)),1)\n",
        "np.savetxt(\"results-PolynomialRegression.csv\", answer, \"%i\", header=\"outlet_no,total_sales_actual\", delimiter=\",\", comments=\"\")"
      ],
      "execution_count": 35,
      "outputs": []
    },
    {
      "cell_type": "markdown",
      "metadata": {
        "id": "UvOmsXurBheu"
      },
      "source": [
        "Random Forest Regression"
      ]
    },
    {
      "cell_type": "code",
      "metadata": {
        "id": "GAz2dc_tBnjF",
        "outputId": "9008c41e-b298-453b-9a79-cc4c7d7a0c26",
        "colab": {
          "base_uri": "https://localhost:8080/",
          "height": 136
        }
      },
      "source": [
        "from sklearn.ensemble import RandomForestRegressor\n",
        "regressor = RandomForestRegressor(n_estimators = 10, random_state = 0)\n",
        "regressor.fit(X_train, y_train)"
      ],
      "execution_count": 36,
      "outputs": [
        {
          "output_type": "execute_result",
          "data": {
            "text/plain": [
              "RandomForestRegressor(bootstrap=True, ccp_alpha=0.0, criterion='mse',\n",
              "                      max_depth=None, max_features='auto', max_leaf_nodes=None,\n",
              "                      max_samples=None, min_impurity_decrease=0.0,\n",
              "                      min_impurity_split=None, min_samples_leaf=1,\n",
              "                      min_samples_split=2, min_weight_fraction_leaf=0.0,\n",
              "                      n_estimators=10, n_jobs=None, oob_score=False,\n",
              "                      random_state=0, verbose=0, warm_start=False)"
            ]
          },
          "metadata": {
            "tags": []
          },
          "execution_count": 36
        }
      ]
    },
    {
      "cell_type": "code",
      "metadata": {
        "id": "bnEivpjiBplG"
      },
      "source": [
        "y_pred = regressor.predict(X_test)\n",
        "test = pd.read_csv('test.csv')\n",
        "testid = test.iloc[:, 0].values\n",
        "testid = testid.astype(int)\n",
        "answer = np.concatenate((testid.reshape(len(testid),1), y_pred.reshape(len(y_pred),1)),1)\n",
        "np.savetxt(\"results-RandomForestRegression.csv\", answer, \"%i\", header=\"outlet_no,total_sales_actual\", delimiter=\",\", comments=\"\")"
      ],
      "execution_count": 37,
      "outputs": []
    },
    {
      "cell_type": "markdown",
      "metadata": {
        "id": "LrpDoyuFB1It"
      },
      "source": [
        "Support Vector Regression"
      ]
    },
    {
      "cell_type": "code",
      "metadata": {
        "id": "Cz2D2dffB3ti",
        "outputId": "b356defd-4985-488e-fb19-d1d9a4312d58",
        "colab": {
          "base_uri": "https://localhost:8080/",
          "height": 51
        }
      },
      "source": [
        "from sklearn.svm import SVR\n",
        "regressor = SVR(kernel = 'rbf')\n",
        "regressor.fit(X_train, y_train)"
      ],
      "execution_count": 38,
      "outputs": [
        {
          "output_type": "execute_result",
          "data": {
            "text/plain": [
              "SVR(C=1.0, cache_size=200, coef0=0.0, degree=3, epsilon=0.1, gamma='scale',\n",
              "    kernel='rbf', max_iter=-1, shrinking=True, tol=0.001, verbose=False)"
            ]
          },
          "metadata": {
            "tags": []
          },
          "execution_count": 38
        }
      ]
    },
    {
      "cell_type": "code",
      "metadata": {
        "id": "PlkaHXD0B4rL"
      },
      "source": [
        "y_pred = regressor.predict(X_test)\n",
        "test = pd.read_csv('test.csv')\n",
        "testid = test.iloc[:, 0].values\n",
        "testid = testid.astype(int)\n",
        "answer = np.concatenate((testid.reshape(len(testid),1), y_pred.reshape(len(y_pred),1)),1)\n",
        "np.savetxt(\"results-SupportVectorRegression.csv\", answer, \"%i\", header=\"outlet_no,total_sales_actual\", delimiter=\",\", comments=\"\")"
      ],
      "execution_count": 39,
      "outputs": []
    }
  ]
}